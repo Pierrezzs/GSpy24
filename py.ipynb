import pandas as pd
import matplotlib.pyplot as plt


def carregar_dados(nome_arquivo):
    try:
        return pd.read_csv(nome_arquivo)
    except FileNotFoundError:
        print(f"Arquivo {nome_arquivo} não encontrado.")
        return None


def renomear_colunas(df, renomeacoes):
    return df.rename(columns=renomeacoes)


def combinar_datasets(df1, df2):
    try:
        return pd.merge(df1, df2, on=["Country", "Year"])
    except KeyError as e:
        print(f"Erro ao combinar os datasets: {e}")
        print("Verifique se as colunas 'Country' e 'Year' estão presentes em ambos os arquivos.")
        return None


def converter_emissoes_para_kg(df):
    if 'CO2 emissions per capita (t)' in df.columns:
        df['CO2 emissions per capita (kg)'] = df['CO2 emissions per capita (t)'] * 1000
    return df


def filtrar_dados(df, pais=None, ano_inicial=None, ano_final=None):
    if pais:
        df = df[df['Country'] == pais]
    if ano_inicial and ano_final:
        df = df[(df['Year'] >= ano_inicial) & (df['Year'] <= ano_final)]
    return df


def visualizar_dados_com_anos(df, pais):
    try:
        plt.figure(figsize=(12, 6))
        plt.plot(
            df['Year'],
            df['Energy use per person (kWh)'],
            marker='o',
            label='Uso de Energia per capita (kWh)'
        )
        plt.plot(
            df['Year'],
            df['CO2 emissions per capita (kg)'],
            marker='o',
            label='Emissões de CO2 per capita (kg)',
            color='red'
        )
        plt.title(f'Tendência de Uso de Energia e Emissões de CO2 - {pais}')
        plt.ylabel('Valores')
        plt.xlabel('Ano')
        plt.grid(True)
        plt.legend()
        plt.tight_layout()
        plt.show()
    except KeyError as e:
        print(f"Erro ao visualizar os dados: {e}")
        print("Verifique se as colunas necessárias estão presentes.")

# principal
def main():
    # Caminhos dos arquivos
    arquivo_emissoes = 'per-capita-co-emissions.csv'
    arquivo_energia = 'energy-use-per-person.csv'

    # Carregar os arquivos fornecidos
    dados_emissoes = carregar_dados(arquivo_emissoes)
    dados_energia = carregar_dados(arquivo_energia)

    if dados_emissoes is None or dados_energia is None:
        return

    
    dados_emissoes = renomear_colunas(dados_emissoes, {
        'Entity': 'Country',
        'Annual CO₂ emissions (per capita)': 'CO2 emissions per capita (t)'
    })
    dados_energia = renomear_colunas(dados_energia, {
        'Entity': 'Country',
        'Primary energy consumption per capita (kWh/person)': 'Energy use per person (kWh)'
    })

    
    dados_emissoes = converter_emissoes_para_kg(dados_emissoes)

    
    dados_combinados = combinar_datasets(dados_emissoes, dados_energia)
    if dados_combinados is None:
        return

    
    continentes = ['South America', 'North America', 'Asia', 'Oceania', 'Europe', 'Africa']

    
    for continente in continentes:
        dados_filtrados = filtrar_dados(dados_combinados, pais=continente, ano_inicial=2000, ano_final=2023)

        if dados_filtrados.empty:
            print(f"Nenhum dado disponível para {continente} no período especificado.")
        else:
            visualizar_dados_com_anos(dados_filtrados, continente)

if __name__ == "__main__":
    main()
